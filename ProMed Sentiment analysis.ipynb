{
 "cells": [
  {
   "cell_type": "code",
   "execution_count": 25,
   "metadata": {
    "scrolled": true
   },
   "outputs": [
    {
     "data": {
      "text/plain": [
       "'[\\'I saw Dr Poulin for port removal. He is an excellent, professional, highly experienced physician who took time to listen to my concerns and explained everything very carefully and performed the procedure skilfully and kept my family informed throughout the peri-operative period. his office staff was excellent. I was able to get the appointment within a week and received a follow-up call and clear post-operative instructions. Usha South Bend\\', \\'My care and treatment are excellent\\', \\'A truly knowledgeable caring, concerned, compassionate individual, who I am grateful to have experienced as a surgical physician. This demeanor is apparent throughout his office and surgical staff. I am, and we are fortunate to have he and his staff in our community serving patients throughout. \\', \\'Excellent doctor. Always early and or on time. Takes time to answer questions. We are so fortunate to have Dr Poulin as a physician. \\', \"Dr Poulin is an excellent Surgeon - he takes care of both my husband and I with excellent results . His wisdom gained over his years of practice and skilled hands make him a premier general Surgeon in this area. Don\\'t have to go to other larger cities with him in the community!\", \"My family doctor made the recommendations for me to see him and I got a call to set up an appointment very quickly. She spoke very highly of him and for good reason. He was a man of few words, and pretty much just let me tell him what I was feeling and what I wanted to do. I told him that regardless of what the results were from my thyroid biopsy, my doctor wanted it all taken out (family history of thyroid problems being the biggest reason) and Dr. Poulin was 100% ok with it. He\\'s just great!!\", \\'Dr. Poulin was recommended by medical staff.  My husband had an appointment within a timely manner.   Dr. Poulin ordered an ultrasound of the carotid and when the results were available he personally called and a CT was scheduled.  Dr. Poulin informs individuals and family members the results, any upcoming testing, and what to expect.  I would recommend Dr. Poulin to others. \\', \\'Dr. Poplin was recommended by my doctor for the surgery.  After my initial visit with Dr. Poulin I realized he was a no nonsense person who answered all my questions and didn’t sugar coat anything.  Prior to my surgery I talked to relatives and friends and everyone knew of Dr Poulin because they had used his services or family member had.  Not one of the people said anything bad about him and said he was a very good doctor.  I totally agree and would highly recommend him to anyone.\\', \\'Dr. Poulin was wonderful in his explanation of my procedure and listened to all my questions. The staff in his office were helpful in working to schedule my surgery as soon as possible. Thank you so much for the great care and concern both Dr. Poulin and his office staff provided to me. \\', \\'Highly recommended \\', \\'Dr Poulin did a awesome job prior to surgery explain what he was going to do. The day of my surgery I had he again told my husband and I exactly what he was going to do and I had very good experience. Thank you Dr Poulin for a great job. I would recommend Dr Poulin to anyone that wants a awesome surgeon.\\', \\'Dr Poulin sets the standard of what a surgeon should be.  He is not only the best at what he does but has the best bedside manner.  He truly cares about his patients.\\', \\'My wait time was short. Front desk staff was superb. The doctor however is a man of few words and seemed less than interested in talking to me about the problem or anything at all. \\', \\'Excellent experience \\', \\'Very knowledgeable and took time to explain. \\', \\'Very competent and professional physician.\\', \\'Incredibly talented doctor and supporting staff.  I trust him over any doctor to this point. \\']'"
      ]
     },
     "execution_count": 25,
     "metadata": {},
     "output_type": "execute_result"
    }
   ],
   "source": [
    "import pandas as pd\n",
    "import re \n",
    "import string\n",
    "\n",
    "\n",
    "import pandas as pd\n",
    "import sqlite3\n",
    "conn = sqlite3.connect(\"reviews.db\")\n",
    "df = pd.read_sql_query(\"SELECT * FROM reviews_tb\", conn)\n",
    "df[\"patient_reviews\"][0]\n",
    "\n",
    "\n",
    "\n"
   ]
  },
  {
   "cell_type": "markdown",
   "metadata": {},
   "source": [
    "# Cleaning the Data\n"
   ]
  },
  {
   "cell_type": "code",
   "execution_count": 36,
   "metadata": {},
   "outputs": [
    {
     "data": {
      "text/plain": [
       "0    i saw dr poulin for port removal he is an exce...\n",
       "1    he did a good csection but brushed off concern...\n",
       "2    i recently had my appointment with dr credit p...\n",
       "3                                                     \n",
       "4    great i am impressed with the minimal amount o...\n",
       "5    i have worked a nurse for  years in this area ...\n",
       "Name: patient_reviews, dtype: object"
      ]
     },
     "execution_count": 36,
     "metadata": {},
     "output_type": "execute_result"
    }
   ],
   "source": [
    "import re\n",
    "import string\n",
    "\n",
    "\n",
    "def clean_text_basics(text):\n",
    "    \n",
    "    text = text.lower()\n",
    "    text = re.sub('\\[', '', text)\n",
    "    text =re.sub('\\]', '', text)\n",
    "    text = text.translate(str.maketrans('', '', string.punctuation))\n",
    "    text = re.sub('\\w*\\d\\w*', '', text)\n",
    "    return text\n",
    "\n",
    "clean = lambda x: clean_text_basics(x)\n",
    "def clean_doc(text):\n",
    "    text = re.sub('\\[', '', text)\n",
    "    text =re.sub('\\]', '', text)\n",
    "    text = re.sub(\"\\'\", \"\", text)\n",
    "    return text\n",
    "\n",
    "df[\"patient_reviews\"]= pd.DataFrame(df[\"patient_reviews\"].apply(clean))\n",
    "df['doctor']= pd.DataFrame(df[\"doctor\"].apply(clean_doc))\n",
    "df[\"patient_reviews\"]"
   ]
  },
  {
   "cell_type": "code",
   "execution_count": 37,
   "metadata": {},
   "outputs": [
    {
     "data": {
      "text/html": [
       "<div>\n",
       "<style scoped>\n",
       "    .dataframe tbody tr th:only-of-type {\n",
       "        vertical-align: middle;\n",
       "    }\n",
       "\n",
       "    .dataframe tbody tr th {\n",
       "        vertical-align: top;\n",
       "    }\n",
       "\n",
       "    .dataframe thead th {\n",
       "        text-align: right;\n",
       "    }\n",
       "</style>\n",
       "<table border=\"1\" class=\"dataframe\">\n",
       "  <thead>\n",
       "    <tr style=\"text-align: right;\">\n",
       "      <th></th>\n",
       "      <th>doctor</th>\n",
       "      <th>patient_reviews</th>\n",
       "      <th>polarity</th>\n",
       "      <th>subjectivity</th>\n",
       "    </tr>\n",
       "  </thead>\n",
       "  <tbody>\n",
       "    <tr>\n",
       "      <th>0</th>\n",
       "      <td>Dr. Thomas Poulin, MD</td>\n",
       "      <td>i saw dr poulin for port removal he is an exce...</td>\n",
       "      <td>0.389379</td>\n",
       "      <td>0.561928</td>\n",
       "    </tr>\n",
       "    <tr>\n",
       "      <th>1</th>\n",
       "      <td>Dr. Douglas MacGregor, DO</td>\n",
       "      <td>he did a good csection but brushed off concern...</td>\n",
       "      <td>-0.056250</td>\n",
       "      <td>0.416667</td>\n",
       "    </tr>\n",
       "    <tr>\n",
       "      <th>2</th>\n",
       "      <td>Dr. Robert Credi, MD</td>\n",
       "      <td>i recently had my appointment with dr credit p...</td>\n",
       "      <td>0.099061</td>\n",
       "      <td>0.492063</td>\n",
       "    </tr>\n",
       "    <tr>\n",
       "      <th>3</th>\n",
       "      <td>Dr. Alfredo Casetti, MD</td>\n",
       "      <td></td>\n",
       "      <td>0.000000</td>\n",
       "      <td>0.000000</td>\n",
       "    </tr>\n",
       "    <tr>\n",
       "      <th>4</th>\n",
       "      <td>Dr. Charles Peterson, MD</td>\n",
       "      <td>great i am impressed with the minimal amount o...</td>\n",
       "      <td>0.352517</td>\n",
       "      <td>0.529408</td>\n",
       "    </tr>\n",
       "    <tr>\n",
       "      <th>5</th>\n",
       "      <td>Dr. Timothy Noveroske, MD</td>\n",
       "      <td>i have worked a nurse for  years in this area ...</td>\n",
       "      <td>0.361721</td>\n",
       "      <td>0.595987</td>\n",
       "    </tr>\n",
       "  </tbody>\n",
       "</table>\n",
       "</div>"
      ],
      "text/plain": [
       "                      doctor  \\\n",
       "0      Dr. Thomas Poulin, MD   \n",
       "1  Dr. Douglas MacGregor, DO   \n",
       "2       Dr. Robert Credi, MD   \n",
       "3    Dr. Alfredo Casetti, MD   \n",
       "4   Dr. Charles Peterson, MD   \n",
       "5  Dr. Timothy Noveroske, MD   \n",
       "\n",
       "                                     patient_reviews  polarity  subjectivity  \n",
       "0  i saw dr poulin for port removal he is an exce...  0.389379      0.561928  \n",
       "1  he did a good csection but brushed off concern... -0.056250      0.416667  \n",
       "2  i recently had my appointment with dr credit p...  0.099061      0.492063  \n",
       "3                                                     0.000000      0.000000  \n",
       "4  great i am impressed with the minimal amount o...  0.352517      0.529408  \n",
       "5  i have worked a nurse for  years in this area ...  0.361721      0.595987  "
      ]
     },
     "execution_count": 37,
     "metadata": {},
     "output_type": "execute_result"
    }
   ],
   "source": [
    "from textblob import TextBlob\n",
    "\n",
    "pol = lambda x: TextBlob(x).sentiment.polarity\n",
    "sub = lambda x: TextBlob(x).sentiment.subjectivity\n",
    "\n",
    "df[\"polarity\"] = df[\"patient_reviews\"].apply(pol)\n",
    "df[\"subjectivity\"] = df[\"patient_reviews\"].apply(sub)\n",
    "df"
   ]
  },
  {
   "cell_type": "code",
   "execution_count": 54,
   "metadata": {},
   "outputs": [],
   "source": [
    "df.set_index(df[\"doctor\"], inplace = True)\n",
    "#df.drop(\"Dr. Alfredo Casetti, MD\", inplace = True)"
   ]
  },
  {
   "cell_type": "code",
   "execution_count": 41,
   "metadata": {},
   "outputs": [],
   "source": [
    "#got from https://www.indianapcf.com/Provider-ClaimSummaryList.aspx\n",
    "\n",
    "df[\"claims\"] = [13,1,12,0,15]\n"
   ]
  },
  {
   "cell_type": "code",
   "execution_count": 42,
   "metadata": {},
   "outputs": [],
   "source": [
    "df[\"yrs\"]=[24,41,44,30,43]"
   ]
  },
  {
   "cell_type": "code",
   "execution_count": 43,
   "metadata": {},
   "outputs": [
    {
     "data": {
      "text/html": [
       "<div>\n",
       "<style scoped>\n",
       "    .dataframe tbody tr th:only-of-type {\n",
       "        vertical-align: middle;\n",
       "    }\n",
       "\n",
       "    .dataframe tbody tr th {\n",
       "        vertical-align: top;\n",
       "    }\n",
       "\n",
       "    .dataframe thead th {\n",
       "        text-align: right;\n",
       "    }\n",
       "</style>\n",
       "<table border=\"1\" class=\"dataframe\">\n",
       "  <thead>\n",
       "    <tr style=\"text-align: right;\">\n",
       "      <th></th>\n",
       "      <th>doctor</th>\n",
       "      <th>patient_reviews</th>\n",
       "      <th>polarity</th>\n",
       "      <th>subjectivity</th>\n",
       "      <th>claims</th>\n",
       "      <th>yrs</th>\n",
       "      <th>claims/yr</th>\n",
       "    </tr>\n",
       "    <tr>\n",
       "      <th>doctor</th>\n",
       "      <th></th>\n",
       "      <th></th>\n",
       "      <th></th>\n",
       "      <th></th>\n",
       "      <th></th>\n",
       "      <th></th>\n",
       "      <th></th>\n",
       "    </tr>\n",
       "  </thead>\n",
       "  <tbody>\n",
       "    <tr>\n",
       "      <th>Dr. Thomas Poulin, MD</th>\n",
       "      <td>Dr. Thomas Poulin, MD</td>\n",
       "      <td>i saw dr poulin for port removal he is an exce...</td>\n",
       "      <td>0.389379</td>\n",
       "      <td>0.561928</td>\n",
       "      <td>13</td>\n",
       "      <td>24</td>\n",
       "      <td>0.541667</td>\n",
       "    </tr>\n",
       "    <tr>\n",
       "      <th>Dr. Douglas MacGregor, DO</th>\n",
       "      <td>Dr. Douglas MacGregor, DO</td>\n",
       "      <td>he did a good csection but brushed off concern...</td>\n",
       "      <td>-0.056250</td>\n",
       "      <td>0.416667</td>\n",
       "      <td>1</td>\n",
       "      <td>41</td>\n",
       "      <td>0.024390</td>\n",
       "    </tr>\n",
       "    <tr>\n",
       "      <th>Dr. Robert Credi, MD</th>\n",
       "      <td>Dr. Robert Credi, MD</td>\n",
       "      <td>i recently had my appointment with dr credit p...</td>\n",
       "      <td>0.099061</td>\n",
       "      <td>0.492063</td>\n",
       "      <td>12</td>\n",
       "      <td>44</td>\n",
       "      <td>0.272727</td>\n",
       "    </tr>\n",
       "    <tr>\n",
       "      <th>Dr. Charles Peterson, MD</th>\n",
       "      <td>Dr. Charles Peterson, MD</td>\n",
       "      <td>great i am impressed with the minimal amount o...</td>\n",
       "      <td>0.352517</td>\n",
       "      <td>0.529408</td>\n",
       "      <td>0</td>\n",
       "      <td>30</td>\n",
       "      <td>0.000000</td>\n",
       "    </tr>\n",
       "    <tr>\n",
       "      <th>Dr. Timothy Noveroske, MD</th>\n",
       "      <td>Dr. Timothy Noveroske, MD</td>\n",
       "      <td>i have worked a nurse for  years in this area ...</td>\n",
       "      <td>0.361721</td>\n",
       "      <td>0.595987</td>\n",
       "      <td>15</td>\n",
       "      <td>43</td>\n",
       "      <td>0.348837</td>\n",
       "    </tr>\n",
       "  </tbody>\n",
       "</table>\n",
       "</div>"
      ],
      "text/plain": [
       "                                              doctor  \\\n",
       "doctor                                                 \n",
       "Dr. Thomas Poulin, MD          Dr. Thomas Poulin, MD   \n",
       "Dr. Douglas MacGregor, DO  Dr. Douglas MacGregor, DO   \n",
       "Dr. Robert Credi, MD            Dr. Robert Credi, MD   \n",
       "Dr. Charles Peterson, MD    Dr. Charles Peterson, MD   \n",
       "Dr. Timothy Noveroske, MD  Dr. Timothy Noveroske, MD   \n",
       "\n",
       "                                                             patient_reviews  \\\n",
       "doctor                                                                         \n",
       "Dr. Thomas Poulin, MD      i saw dr poulin for port removal he is an exce...   \n",
       "Dr. Douglas MacGregor, DO  he did a good csection but brushed off concern...   \n",
       "Dr. Robert Credi, MD       i recently had my appointment with dr credit p...   \n",
       "Dr. Charles Peterson, MD   great i am impressed with the minimal amount o...   \n",
       "Dr. Timothy Noveroske, MD  i have worked a nurse for  years in this area ...   \n",
       "\n",
       "                           polarity  subjectivity  claims  yrs  claims/yr  \n",
       "doctor                                                                     \n",
       "Dr. Thomas Poulin, MD      0.389379      0.561928      13   24   0.541667  \n",
       "Dr. Douglas MacGregor, DO -0.056250      0.416667       1   41   0.024390  \n",
       "Dr. Robert Credi, MD       0.099061      0.492063      12   44   0.272727  \n",
       "Dr. Charles Peterson, MD   0.352517      0.529408       0   30   0.000000  \n",
       "Dr. Timothy Noveroske, MD  0.361721      0.595987      15   43   0.348837  "
      ]
     },
     "execution_count": 43,
     "metadata": {},
     "output_type": "execute_result"
    }
   ],
   "source": [
    "df[\"claims/yr\"]= df[\"claims\"]/df[\"yrs\"]\n",
    "df"
   ]
  },
  {
   "cell_type": "code",
   "execution_count": 58,
   "metadata": {},
   "outputs": [
    {
     "data": {
      "image/png": "[encoded data removed]",
      "text/plain": [
       "<Figure size 432x288 with 1 Axes>"
      ]
     },
     "metadata": {
      "needs_background": "light"
     },
     "output_type": "display_data"
    }
   ],
   "source": [
    "import matplotlib.pyplot as plt\n",
    "\n",
    "df.rename(index = {\"Dr. Thomas Poulin, MD\":\"Poulin\", \"Dr. Douglas MacGregor, DO\":\"MacGregor\", \"Dr. Robert Credi, MD\":\"Credi\",\n",
    "                   \"Dr. Charles Peterson, MD\":\"Peterson\", \"Dr. Timothy Noveroske, MD\":\"Noveroske\"}, inplace= True)\n",
    "ax = df.plot.bar( y = ['polarity','claims/yr'], rot =0)\n",
    "\n"
   ]
  },
  {
   "cell_type": "code",
   "execution_count": null,
   "metadata": {},
   "outputs": [],
   "source": []
  }
 ],
 "metadata": {
  "kernelspec": {
   "display_name": "Python 3",
   "language": "python",
   "name": "python3"
  },
  "language_info": {
   "codemirror_mode": {
    "name": "ipython",
    "version": 3
   },
   "file_extension": ".py",
   "mimetype": "text/x-python",
   "name": "python",
   "nbconvert_exporter": "python",
   "pygments_lexer": "ipython3",
   "version": "3.7.0"
  }
 },
 "nbformat": 4,
 "nbformat_minor": 2
}
